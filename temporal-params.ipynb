{
 "cells": [
  {
   "cell_type": "code",
   "execution_count": 3,
   "id": "42b2ec66",
   "metadata": {},
   "outputs": [],
   "source": [
    "import matplotlib.pyplot as plt\n",
    "import numpy as np"
   ]
  },
  {
   "cell_type": "code",
   "execution_count": null,
   "id": "352f2e8a",
   "metadata": {},
   "outputs": [],
   "source": []
  },
  {
   "cell_type": "code",
   "execution_count": 4,
   "id": "6a8aa0b3",
   "metadata": {},
   "outputs": [],
   "source": [
    "x = np.arange(24)"
   ]
  },
  {
   "cell_type": "markdown",
   "id": "914b2bb9",
   "metadata": {},
   "source": [
    "## Weekdays"
   ]
  },
  {
   "cell_type": "code",
   "execution_count": 281,
   "id": "4437315f",
   "metadata": {},
   "outputs": [],
   "source": [
    "a=2.8\n",
    "b=2.4\n",
    "c=1.0\n",
    "d=5.0"
   ]
  },
  {
   "cell_type": "code",
   "execution_count": 282,
   "id": "5d6d27e0",
   "metadata": {},
   "outputs": [],
   "source": [
    "def get_sinx(x, a, b, c, d):\n",
    "    sin_x = np.sin(x/a + b)*d + c\n",
    "    \n",
    "    return sin_x\n",
    "    "
   ]
  },
  {
   "cell_type": "code",
   "execution_count": 283,
   "id": "e4e46bea",
   "metadata": {},
   "outputs": [],
   "source": [
    "def get_fx(x, sin_x):\n",
    "    fx = np.zeros_like(sin_x)\n",
    "    for xi in x:\n",
    "        if xi < 6:\n",
    "            fx[xi] = 0\n",
    "        else:\n",
    "            fx[xi] = max(0, sin_x[xi])\n",
    "    return fx\n",
    "        "
   ]
  },
  {
   "cell_type": "code",
   "execution_count": 284,
   "id": "4ce53b97",
   "metadata": {},
   "outputs": [],
   "source": [
    "sin_x = get_sinx(x, a, b, c, d)\n",
    "fx = get_fx(x, sin_x) "
   ]
  },
  {
   "cell_type": "code",
   "execution_count": 285,
   "id": "fde13814",
   "metadata": {},
   "outputs": [
    {
     "data": {
      "text/plain": [
       "[<matplotlib.lines.Line2D at 0x7f3e3bada400>]"
      ]
     },
     "execution_count": 285,
     "metadata": {},
     "output_type": "execute_result"
    },
    {
     "data": {
      "image/png": "[encoded data removed]",
      "text/plain": [
       "<Figure size 432x288 with 1 Axes>"
      ]
     },
     "metadata": {
      "needs_background": "light"
     },
     "output_type": "display_data"
    }
   ],
   "source": [
    "plt.plot(x, fx, marker=\"o\", linestyle='--', c='red')"
   ]
  },
  {
   "cell_type": "code",
   "execution_count": 286,
   "id": "dd3ea583",
   "metadata": {},
   "outputs": [
    {
     "data": {
      "text/plain": [
       "15"
      ]
     },
     "execution_count": 286,
     "metadata": {},
     "output_type": "execute_result"
    }
   ],
   "source": [
    "np.argmax(fx)"
   ]
  },
  {
   "cell_type": "code",
   "execution_count": 287,
   "id": "0d0130c2",
   "metadata": {},
   "outputs": [
    {
     "data": {
      "text/plain": [
       "[<matplotlib.lines.Line2D at 0x7f3e3ba33550>]"
      ]
     },
     "execution_count": 287,
     "metadata": {},
     "output_type": "execute_result"
    },
    {
     "data": {
      "image/png": "[encoded data removed]",
      "text/plain": [
       "<Figure size 432x288 with 1 Axes>"
      ]
     },
     "metadata": {
      "needs_background": "light"
     },
     "output_type": "display_data"
    }
   ],
   "source": [
    "gx = np.random.poisson(fx)\n",
    "plt.plot(x, gx, marker=\"o\", linestyle='--', c='red')"
   ]
  },
  {
   "cell_type": "code",
   "execution_count": 288,
   "id": "3f68b165",
   "metadata": {},
   "outputs": [
    {
     "data": {
      "text/plain": [
       "16"
      ]
     },
     "execution_count": 288,
     "metadata": {},
     "output_type": "execute_result"
    }
   ],
   "source": [
    "np.argmax(gx)"
   ]
  },
  {
   "cell_type": "code",
   "execution_count": 289,
   "id": "8c5d0c24",
   "metadata": {},
   "outputs": [
    {
     "data": {
      "text/plain": [
       "10"
      ]
     },
     "execution_count": 289,
     "metadata": {},
     "output_type": "execute_result"
    }
   ],
   "source": [
    "np.max(gx)"
   ]
  },
  {
   "cell_type": "code",
   "execution_count": 290,
   "id": "349b6098",
   "metadata": {},
   "outputs": [
    {
     "data": {
      "text/plain": [
       "35"
      ]
     },
     "execution_count": 290,
     "metadata": {},
     "output_type": "execute_result"
    }
   ],
   "source": [
    "np.sum(gx)"
   ]
  },
  {
   "cell_type": "markdown",
   "id": "719f537c",
   "metadata": {},
   "source": [
    "## Weekends"
   ]
  },
  {
   "cell_type": "code",
   "execution_count": 294,
   "id": "8bb64189",
   "metadata": {},
   "outputs": [],
   "source": [
    "a=2.8\n",
    "b=2.4\n",
    "c=1.0\n",
    "d=10"
   ]
  },
  {
   "cell_type": "code",
   "execution_count": 295,
   "id": "6d7888b7",
   "metadata": {},
   "outputs": [
    {
     "data": {
      "text/plain": [
       "[<matplotlib.lines.Line2D at 0x7f3e3b951580>]"
      ]
     },
     "execution_count": 295,
     "metadata": {},
     "output_type": "execute_result"
    },
    {
     "data": {
      "image/png": "[encoded data removed]",
      "text/plain": [
       "<Figure size 432x288 with 1 Axes>"
      ]
     },
     "metadata": {
      "needs_background": "light"
     },
     "output_type": "display_data"
    }
   ],
   "source": [
    "sin_x = get_sinx(x, a, b, c, d)\n",
    "fx = get_fx(x, sin_x) \n",
    "plt.plot(x, fx, marker=\"o\", linestyle='--', c='red')"
   ]
  },
  {
   "cell_type": "code",
   "execution_count": 296,
   "id": "6b76930a",
   "metadata": {},
   "outputs": [
    {
     "data": {
      "text/plain": [
       "[<matplotlib.lines.Line2D at 0x7f3e3b8aafd0>]"
      ]
     },
     "execution_count": 296,
     "metadata": {},
     "output_type": "execute_result"
    },
    {
     "data": {
      "image/png": "[encoded data removed]",
      "text/plain": [
       "<Figure size 432x288 with 1 Axes>"
      ]
     },
     "metadata": {
      "needs_background": "light"
     },
     "output_type": "display_data"
    }
   ],
   "source": [
    "gx = np.random.poisson(fx)\n",
    "plt.plot(x, gx, marker=\"o\", linestyle='--', c='red')"
   ]
  },
  {
   "cell_type": "code",
   "execution_count": 297,
   "id": "ebb71944",
   "metadata": {},
   "outputs": [
    {
     "data": {
      "text/plain": [
       "16"
      ]
     },
     "execution_count": 297,
     "metadata": {},
     "output_type": "execute_result"
    }
   ],
   "source": [
    "np.argmax(gx)"
   ]
  },
  {
   "cell_type": "code",
   "execution_count": 298,
   "id": "9ac0f7ad",
   "metadata": {},
   "outputs": [
    {
     "data": {
      "text/plain": [
       "14"
      ]
     },
     "execution_count": 298,
     "metadata": {},
     "output_type": "execute_result"
    }
   ],
   "source": [
    "np.max(gx)"
   ]
  },
  {
   "cell_type": "code",
   "execution_count": 299,
   "id": "3d22de7e",
   "metadata": {},
   "outputs": [
    {
     "data": {
      "text/plain": [
       "75"
      ]
     },
     "execution_count": 299,
     "metadata": {},
     "output_type": "execute_result"
    }
   ],
   "source": [
    "np.sum(gx)"
   ]
  },
  {
   "cell_type": "code",
   "execution_count": 302,
   "id": "f9c032de",
   "metadata": {},
   "outputs": [],
   "source": [
    "gx = np.random.poisson(fx[15])"
   ]
  }
 ],
 "metadata": {
  "kernelspec": {
   "display_name": "Python 3",
   "language": "python",
   "name": "python3"
  },
  "language_info": {
   "codemirror_mode": {
    "name": "ipython",
    "version": 3
   },
   "file_extension": ".py",
   "mimetype": "text/x-python",
   "name": "python",
   "nbconvert_exporter": "python",
   "pygments_lexer": "ipython3",
   "version": "3.8.5"
  }
 },
 "nbformat": 4,
 "nbformat_minor": 5
}
