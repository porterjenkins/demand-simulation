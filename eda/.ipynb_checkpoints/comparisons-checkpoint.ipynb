{
 "cells": [
  {
   "cell_type": "code",
   "execution_count": 63,
   "metadata": {},
   "outputs": [],
   "source": [
    "import matplotlib.pyplot as plt\n",
    "import json\n",
    "import os\n",
    "import pandas as pd\n",
    "import numpy as np"
   ]
  },
  {
   "cell_type": "code",
   "execution_count": 45,
   "metadata": {},
   "outputs": [],
   "source": [
    "demand_ids = [\n",
    "    'cdb52151-5b4a-499b-b2a1-dbf10d8fe61a', \n",
    "    '73df6782-39f3-4ed6-bc57-852d0ca150ef', \n",
    "    'c4bb7165-8610-41c3-a936-39f91c98c418', \n",
    "    '5aa6092e-14a3-4534-a149-c65bb5ae8aa5'\n",
    "]"
   ]
  },
  {
   "cell_type": "code",
   "execution_count": 46,
   "metadata": {},
   "outputs": [],
   "source": [
    "run_dir = \"../experiments\""
   ]
  },
  {
   "cell_type": "code",
   "execution_count": 47,
   "metadata": {},
   "outputs": [],
   "source": [
    "trajectories = []\n",
    "for sim_id in demand_ids:\n",
    "    df = pd.read_csv(os.path.join(run_dir, sim_id, \"output.csv\"))\n",
    "    df['sim-id'] = sim_id\n",
    "    trajectories.append(df)"
   ]
  },
  {
   "cell_type": "code",
   "execution_count": 48,
   "metadata": {},
   "outputs": [],
   "source": [
    "trajectories = pd.concat(trajectories, axis=0)"
   ]
  },
  {
   "cell_type": "code",
   "execution_count": 88,
   "metadata": {},
   "outputs": [],
   "source": [
    "trajectories['datetime'] = pd.to_datetime(trajectories['datetime'])\n",
    "trajectories['date'] = trajectories['datetime'].dt.date"
   ]
  },
  {
   "cell_type": "code",
   "execution_count": 89,
   "metadata": {},
   "outputs": [
    {
     "data": {
      "text/html": [
       "<div>\n",
       "<style scoped>\n",
       "    .dataframe tbody tr th:only-of-type {\n",
       "        vertical-align: middle;\n",
       "    }\n",
       "\n",
       "    .dataframe tbody tr th {\n",
       "        vertical-align: top;\n",
       "    }\n",
       "\n",
       "    .dataframe thead th {\n",
       "        text-align: right;\n",
       "    }\n",
       "</style>\n",
       "<table border=\"1\" class=\"dataframe\">\n",
       "  <thead>\n",
       "    <tr style=\"text-align: right;\">\n",
       "      <th></th>\n",
       "      <th>datetime</th>\n",
       "      <th>product</th>\n",
       "      <th>display</th>\n",
       "      <th>num_slots</th>\n",
       "      <th>quantity_sold</th>\n",
       "      <th>price</th>\n",
       "      <th>revenue</th>\n",
       "      <th>sim-id</th>\n",
       "      <th>date</th>\n",
       "    </tr>\n",
       "  </thead>\n",
       "  <tbody>\n",
       "    <tr>\n",
       "      <td>0</td>\n",
       "      <td>2021-05-01 12:00:00</td>\n",
       "      <td>coca_cola_20oz_bottle</td>\n",
       "      <td>entrance-cooler</td>\n",
       "      <td>4</td>\n",
       "      <td>2.0</td>\n",
       "      <td>1.99</td>\n",
       "      <td>3.98</td>\n",
       "      <td>cdb52151-5b4a-499b-b2a1-dbf10d8fe61a</td>\n",
       "      <td>2021-05-01</td>\n",
       "    </tr>\n",
       "    <tr>\n",
       "      <td>1</td>\n",
       "      <td>2021-05-01 12:00:00</td>\n",
       "      <td>dr_pepper_20oz_bottle</td>\n",
       "      <td>entrance-cooler</td>\n",
       "      <td>4</td>\n",
       "      <td>1.0</td>\n",
       "      <td>0.99</td>\n",
       "      <td>0.99</td>\n",
       "      <td>cdb52151-5b4a-499b-b2a1-dbf10d8fe61a</td>\n",
       "      <td>2021-05-01</td>\n",
       "    </tr>\n",
       "    <tr>\n",
       "      <td>2</td>\n",
       "      <td>2021-05-01 12:00:00</td>\n",
       "      <td>diet_coke_20oz_bottle</td>\n",
       "      <td>entrance-cooler</td>\n",
       "      <td>4</td>\n",
       "      <td>0.0</td>\n",
       "      <td>1.99</td>\n",
       "      <td>0.00</td>\n",
       "      <td>cdb52151-5b4a-499b-b2a1-dbf10d8fe61a</td>\n",
       "      <td>2021-05-01</td>\n",
       "    </tr>\n",
       "    <tr>\n",
       "      <td>3</td>\n",
       "      <td>2021-05-01 12:00:00</td>\n",
       "      <td>sprite_20oz_bottle</td>\n",
       "      <td>entrance-cooler</td>\n",
       "      <td>4</td>\n",
       "      <td>0.0</td>\n",
       "      <td>1.99</td>\n",
       "      <td>0.00</td>\n",
       "      <td>cdb52151-5b4a-499b-b2a1-dbf10d8fe61a</td>\n",
       "      <td>2021-05-01</td>\n",
       "    </tr>\n",
       "    <tr>\n",
       "      <td>4</td>\n",
       "      <td>2021-05-01 12:00:00</td>\n",
       "      <td>Monster_16oz_can</td>\n",
       "      <td>entrance-cooler</td>\n",
       "      <td>4</td>\n",
       "      <td>5.0</td>\n",
       "      <td>2.99</td>\n",
       "      <td>14.95</td>\n",
       "      <td>cdb52151-5b4a-499b-b2a1-dbf10d8fe61a</td>\n",
       "      <td>2021-05-01</td>\n",
       "    </tr>\n",
       "  </tbody>\n",
       "</table>\n",
       "</div>"
      ],
      "text/plain": [
       "             datetime                product          display  num_slots  \\\n",
       "0 2021-05-01 12:00:00  coca_cola_20oz_bottle  entrance-cooler          4   \n",
       "1 2021-05-01 12:00:00  dr_pepper_20oz_bottle  entrance-cooler          4   \n",
       "2 2021-05-01 12:00:00  diet_coke_20oz_bottle  entrance-cooler          4   \n",
       "3 2021-05-01 12:00:00     sprite_20oz_bottle  entrance-cooler          4   \n",
       "4 2021-05-01 12:00:00       Monster_16oz_can  entrance-cooler          4   \n",
       "\n",
       "   quantity_sold  price  revenue                                sim-id  \\\n",
       "0            2.0   1.99     3.98  cdb52151-5b4a-499b-b2a1-dbf10d8fe61a   \n",
       "1            1.0   0.99     0.99  cdb52151-5b4a-499b-b2a1-dbf10d8fe61a   \n",
       "2            0.0   1.99     0.00  cdb52151-5b4a-499b-b2a1-dbf10d8fe61a   \n",
       "3            0.0   1.99     0.00  cdb52151-5b4a-499b-b2a1-dbf10d8fe61a   \n",
       "4            5.0   2.99    14.95  cdb52151-5b4a-499b-b2a1-dbf10d8fe61a   \n",
       "\n",
       "         date  \n",
       "0  2021-05-01  \n",
       "1  2021-05-01  \n",
       "2  2021-05-01  \n",
       "3  2021-05-01  \n",
       "4  2021-05-01  "
      ]
     },
     "execution_count": 89,
     "metadata": {},
     "output_type": "execute_result"
    }
   ],
   "source": [
    "trajectories.head()"
   ]
  },
  {
   "cell_type": "code",
   "execution_count": 92,
   "metadata": {},
   "outputs": [],
   "source": [
    "total_reward = trajectories[['date', 'display', 'revenue', 'sim-id']].groupby([\"sim-id\",\"display\", \"date\"]).agg(\n",
    "    {\"revenue\": sum}\n",
    ")"
   ]
  },
  {
   "cell_type": "code",
   "execution_count": 93,
   "metadata": {},
   "outputs": [],
   "source": [
    "total_reward.reset_index(inplace=True)"
   ]
  },
  {
   "cell_type": "code",
   "execution_count": 94,
   "metadata": {},
   "outputs": [
    {
     "data": {
      "text/html": [
       "<div>\n",
       "<style scoped>\n",
       "    .dataframe tbody tr th:only-of-type {\n",
       "        vertical-align: middle;\n",
       "    }\n",
       "\n",
       "    .dataframe tbody tr th {\n",
       "        vertical-align: top;\n",
       "    }\n",
       "\n",
       "    .dataframe thead th {\n",
       "        text-align: right;\n",
       "    }\n",
       "</style>\n",
       "<table border=\"1\" class=\"dataframe\">\n",
       "  <thead>\n",
       "    <tr style=\"text-align: right;\">\n",
       "      <th></th>\n",
       "      <th>sim-id</th>\n",
       "      <th>display</th>\n",
       "      <th>date</th>\n",
       "      <th>revenue</th>\n",
       "    </tr>\n",
       "  </thead>\n",
       "  <tbody>\n",
       "    <tr>\n",
       "      <td>0</td>\n",
       "      <td>5aa6092e-14a3-4534-a149-c65bb5ae8aa5</td>\n",
       "      <td>dairy-cooler</td>\n",
       "      <td>2021-05-01</td>\n",
       "      <td>76.64</td>\n",
       "    </tr>\n",
       "    <tr>\n",
       "      <td>1</td>\n",
       "      <td>5aa6092e-14a3-4534-a149-c65bb5ae8aa5</td>\n",
       "      <td>dairy-cooler</td>\n",
       "      <td>2021-05-02</td>\n",
       "      <td>44.79</td>\n",
       "    </tr>\n",
       "    <tr>\n",
       "      <td>2</td>\n",
       "      <td>5aa6092e-14a3-4534-a149-c65bb5ae8aa5</td>\n",
       "      <td>dairy-cooler</td>\n",
       "      <td>2021-05-03</td>\n",
       "      <td>27.87</td>\n",
       "    </tr>\n",
       "    <tr>\n",
       "      <td>3</td>\n",
       "      <td>5aa6092e-14a3-4534-a149-c65bb5ae8aa5</td>\n",
       "      <td>dairy-cooler</td>\n",
       "      <td>2021-05-04</td>\n",
       "      <td>37.84</td>\n",
       "    </tr>\n",
       "    <tr>\n",
       "      <td>4</td>\n",
       "      <td>5aa6092e-14a3-4534-a149-c65bb5ae8aa5</td>\n",
       "      <td>dairy-cooler</td>\n",
       "      <td>2021-05-05</td>\n",
       "      <td>29.84</td>\n",
       "    </tr>\n",
       "  </tbody>\n",
       "</table>\n",
       "</div>"
      ],
      "text/plain": [
       "                                 sim-id       display        date  revenue\n",
       "0  5aa6092e-14a3-4534-a149-c65bb5ae8aa5  dairy-cooler  2021-05-01    76.64\n",
       "1  5aa6092e-14a3-4534-a149-c65bb5ae8aa5  dairy-cooler  2021-05-02    44.79\n",
       "2  5aa6092e-14a3-4534-a149-c65bb5ae8aa5  dairy-cooler  2021-05-03    27.87\n",
       "3  5aa6092e-14a3-4534-a149-c65bb5ae8aa5  dairy-cooler  2021-05-04    37.84\n",
       "4  5aa6092e-14a3-4534-a149-c65bb5ae8aa5  dairy-cooler  2021-05-05    29.84"
      ]
     },
     "execution_count": 94,
     "metadata": {},
     "output_type": "execute_result"
    }
   ],
   "source": [
    "total_reward.head()"
   ]
  },
  {
   "cell_type": "code",
   "execution_count": 97,
   "metadata": {},
   "outputs": [],
   "source": [
    "mu = total_reward.groupby(['display', 'date']).agg({'revenue': np.mean}).reset_index()\n",
    "sig = total_reward.groupby(['display', 'date']).agg({'revenue': np.std}).reset_index()"
   ]
  },
  {
   "cell_type": "code",
   "execution_count": 98,
   "metadata": {},
   "outputs": [
    {
     "data": {
      "text/html": [
       "<div>\n",
       "<style scoped>\n",
       "    .dataframe tbody tr th:only-of-type {\n",
       "        vertical-align: middle;\n",
       "    }\n",
       "\n",
       "    .dataframe tbody tr th {\n",
       "        vertical-align: top;\n",
       "    }\n",
       "\n",
       "    .dataframe thead th {\n",
       "        text-align: right;\n",
       "    }\n",
       "</style>\n",
       "<table border=\"1\" class=\"dataframe\">\n",
       "  <thead>\n",
       "    <tr style=\"text-align: right;\">\n",
       "      <th></th>\n",
       "      <th>display</th>\n",
       "      <th>date</th>\n",
       "      <th>revenue</th>\n",
       "    </tr>\n",
       "  </thead>\n",
       "  <tbody>\n",
       "    <tr>\n",
       "      <td>0</td>\n",
       "      <td>dairy-cooler</td>\n",
       "      <td>2021-05-01</td>\n",
       "      <td>72.9125</td>\n",
       "    </tr>\n",
       "    <tr>\n",
       "      <td>1</td>\n",
       "      <td>dairy-cooler</td>\n",
       "      <td>2021-05-02</td>\n",
       "      <td>44.5550</td>\n",
       "    </tr>\n",
       "    <tr>\n",
       "      <td>2</td>\n",
       "      <td>dairy-cooler</td>\n",
       "      <td>2021-05-03</td>\n",
       "      <td>24.3850</td>\n",
       "    </tr>\n",
       "    <tr>\n",
       "      <td>3</td>\n",
       "      <td>dairy-cooler</td>\n",
       "      <td>2021-05-04</td>\n",
       "      <td>30.1000</td>\n",
       "    </tr>\n",
       "    <tr>\n",
       "      <td>4</td>\n",
       "      <td>dairy-cooler</td>\n",
       "      <td>2021-05-05</td>\n",
       "      <td>27.6125</td>\n",
       "    </tr>\n",
       "    <tr>\n",
       "      <td>...</td>\n",
       "      <td>...</td>\n",
       "      <td>...</td>\n",
       "      <td>...</td>\n",
       "    </tr>\n",
       "    <tr>\n",
       "      <td>88</td>\n",
       "      <td>entrance-cooler</td>\n",
       "      <td>2021-05-27</td>\n",
       "      <td>23.8825</td>\n",
       "    </tr>\n",
       "    <tr>\n",
       "      <td>89</td>\n",
       "      <td>entrance-cooler</td>\n",
       "      <td>2021-05-28</td>\n",
       "      <td>27.3550</td>\n",
       "    </tr>\n",
       "    <tr>\n",
       "      <td>90</td>\n",
       "      <td>entrance-cooler</td>\n",
       "      <td>2021-05-29</td>\n",
       "      <td>36.5625</td>\n",
       "    </tr>\n",
       "    <tr>\n",
       "      <td>91</td>\n",
       "      <td>entrance-cooler</td>\n",
       "      <td>2021-05-30</td>\n",
       "      <td>47.0375</td>\n",
       "    </tr>\n",
       "    <tr>\n",
       "      <td>92</td>\n",
       "      <td>entrance-cooler</td>\n",
       "      <td>2021-05-31</td>\n",
       "      <td>20.6425</td>\n",
       "    </tr>\n",
       "  </tbody>\n",
       "</table>\n",
       "<p>93 rows × 3 columns</p>\n",
       "</div>"
      ],
      "text/plain": [
       "            display        date  revenue\n",
       "0      dairy-cooler  2021-05-01  72.9125\n",
       "1      dairy-cooler  2021-05-02  44.5550\n",
       "2      dairy-cooler  2021-05-03  24.3850\n",
       "3      dairy-cooler  2021-05-04  30.1000\n",
       "4      dairy-cooler  2021-05-05  27.6125\n",
       "..              ...         ...      ...\n",
       "88  entrance-cooler  2021-05-27  23.8825\n",
       "89  entrance-cooler  2021-05-28  27.3550\n",
       "90  entrance-cooler  2021-05-29  36.5625\n",
       "91  entrance-cooler  2021-05-30  47.0375\n",
       "92  entrance-cooler  2021-05-31  20.6425\n",
       "\n",
       "[93 rows x 3 columns]"
      ]
     },
     "execution_count": 98,
     "metadata": {},
     "output_type": "execute_result"
    }
   ],
   "source": [
    "mu"
   ]
  },
  {
   "cell_type": "code",
   "execution_count": 110,
   "metadata": {},
   "outputs": [],
   "source": [
    "sig['upper'] = mu['revenue'] + sig['revenue']*1.96\n",
    "sig['lower'] = mu['revenue'] - sig['revenue']*1.96\n"
   ]
  },
  {
   "cell_type": "code",
   "execution_count": 111,
   "metadata": {},
   "outputs": [
    {
     "data": {
      "text/html": [
       "<div>\n",
       "<style scoped>\n",
       "    .dataframe tbody tr th:only-of-type {\n",
       "        vertical-align: middle;\n",
       "    }\n",
       "\n",
       "    .dataframe tbody tr th {\n",
       "        vertical-align: top;\n",
       "    }\n",
       "\n",
       "    .dataframe thead th {\n",
       "        text-align: right;\n",
       "    }\n",
       "</style>\n",
       "<table border=\"1\" class=\"dataframe\">\n",
       "  <thead>\n",
       "    <tr style=\"text-align: right;\">\n",
       "      <th></th>\n",
       "      <th>display</th>\n",
       "      <th>date</th>\n",
       "      <th>revenue</th>\n",
       "      <th>upper</th>\n",
       "      <th>lower</th>\n",
       "    </tr>\n",
       "  </thead>\n",
       "  <tbody>\n",
       "    <tr>\n",
       "      <td>0</td>\n",
       "      <td>dairy-cooler</td>\n",
       "      <td>2021-05-01</td>\n",
       "      <td>6.817338</td>\n",
       "      <td>86.274482</td>\n",
       "      <td>59.550518</td>\n",
       "    </tr>\n",
       "    <tr>\n",
       "      <td>1</td>\n",
       "      <td>dairy-cooler</td>\n",
       "      <td>2021-05-02</td>\n",
       "      <td>12.879510</td>\n",
       "      <td>69.798839</td>\n",
       "      <td>19.311161</td>\n",
       "    </tr>\n",
       "    <tr>\n",
       "      <td>2</td>\n",
       "      <td>dairy-cooler</td>\n",
       "      <td>2021-05-03</td>\n",
       "      <td>2.987781</td>\n",
       "      <td>30.241050</td>\n",
       "      <td>18.528950</td>\n",
       "    </tr>\n",
       "    <tr>\n",
       "      <td>3</td>\n",
       "      <td>dairy-cooler</td>\n",
       "      <td>2021-05-04</td>\n",
       "      <td>11.517468</td>\n",
       "      <td>52.674237</td>\n",
       "      <td>7.525763</td>\n",
       "    </tr>\n",
       "    <tr>\n",
       "      <td>4</td>\n",
       "      <td>dairy-cooler</td>\n",
       "      <td>2021-05-05</td>\n",
       "      <td>2.850560</td>\n",
       "      <td>33.199597</td>\n",
       "      <td>22.025403</td>\n",
       "    </tr>\n",
       "    <tr>\n",
       "      <td>...</td>\n",
       "      <td>...</td>\n",
       "      <td>...</td>\n",
       "      <td>...</td>\n",
       "      <td>...</td>\n",
       "      <td>...</td>\n",
       "    </tr>\n",
       "    <tr>\n",
       "      <td>88</td>\n",
       "      <td>entrance-cooler</td>\n",
       "      <td>2021-05-27</td>\n",
       "      <td>3.361591</td>\n",
       "      <td>30.471218</td>\n",
       "      <td>17.293782</td>\n",
       "    </tr>\n",
       "    <tr>\n",
       "      <td>89</td>\n",
       "      <td>entrance-cooler</td>\n",
       "      <td>2021-05-28</td>\n",
       "      <td>12.010147</td>\n",
       "      <td>50.894888</td>\n",
       "      <td>3.815112</td>\n",
       "    </tr>\n",
       "    <tr>\n",
       "      <td>90</td>\n",
       "      <td>entrance-cooler</td>\n",
       "      <td>2021-05-29</td>\n",
       "      <td>8.482478</td>\n",
       "      <td>53.188156</td>\n",
       "      <td>19.936844</td>\n",
       "    </tr>\n",
       "    <tr>\n",
       "      <td>91</td>\n",
       "      <td>entrance-cooler</td>\n",
       "      <td>2021-05-30</td>\n",
       "      <td>9.328059</td>\n",
       "      <td>65.320496</td>\n",
       "      <td>28.754504</td>\n",
       "    </tr>\n",
       "    <tr>\n",
       "      <td>92</td>\n",
       "      <td>entrance-cooler</td>\n",
       "      <td>2021-05-31</td>\n",
       "      <td>4.962448</td>\n",
       "      <td>30.368898</td>\n",
       "      <td>10.916102</td>\n",
       "    </tr>\n",
       "  </tbody>\n",
       "</table>\n",
       "<p>93 rows × 5 columns</p>\n",
       "</div>"
      ],
      "text/plain": [
       "            display        date    revenue      upper      lower\n",
       "0      dairy-cooler  2021-05-01   6.817338  86.274482  59.550518\n",
       "1      dairy-cooler  2021-05-02  12.879510  69.798839  19.311161\n",
       "2      dairy-cooler  2021-05-03   2.987781  30.241050  18.528950\n",
       "3      dairy-cooler  2021-05-04  11.517468  52.674237   7.525763\n",
       "4      dairy-cooler  2021-05-05   2.850560  33.199597  22.025403\n",
       "..              ...         ...        ...        ...        ...\n",
       "88  entrance-cooler  2021-05-27   3.361591  30.471218  17.293782\n",
       "89  entrance-cooler  2021-05-28  12.010147  50.894888   3.815112\n",
       "90  entrance-cooler  2021-05-29   8.482478  53.188156  19.936844\n",
       "91  entrance-cooler  2021-05-30   9.328059  65.320496  28.754504\n",
       "92  entrance-cooler  2021-05-31   4.962448  30.368898  10.916102\n",
       "\n",
       "[93 rows x 5 columns]"
      ]
     },
     "execution_count": 111,
     "metadata": {},
     "output_type": "execute_result"
    }
   ],
   "source": [
    "sig"
   ]
  },
  {
   "cell_type": "code",
   "execution_count": 117,
   "metadata": {},
   "outputs": [
    {
     "data": {
      "text/plain": [
       "(93, 5)"
      ]
     },
     "execution_count": 117,
     "metadata": {},
     "output_type": "execute_result"
    }
   ],
   "source": [
    "sig.shape"
   ]
  },
  {
   "cell_type": "code",
   "execution_count": 115,
   "metadata": {},
   "outputs": [
    {
     "data": {
      "text/plain": [
       "<matplotlib.collections.PolyCollection at 0x7fa0e55917d0>"
      ]
     },
     "execution_count": 115,
     "metadata": {},
     "output_type": "execute_result"
    },
    {
     "data": {
      "image/png": "[encoded data removed]",
      "text/plain": [
       "<Figure size 1152x576 with 1 Axes>"
      ]
     },
     "metadata": {
      "needs_background": "light"
     },
     "output_type": "display_data"
    }
   ],
   "source": [
    "for g, \n",
    "fig = plt.figure(figsize=(16, 8))\n",
    "plt.plot(mu_dairy[\"date\"], mu_dairy[\"revenue\"])\n",
    "plt.fill_between(mu_dairy[\"date\"], sig_dairy[\"lower\"], sig_dairy[\"upper\"], alpha=.1)"
   ]
  },
  {
   "cell_type": "code",
   "execution_count": 81,
   "metadata": {},
   "outputs": [
    {
     "data": {
      "text/plain": [
       "0      2021-05-01 12:00:00\n",
       "1      2021-05-01 16:00:00\n",
       "2      2021-05-01 20:00:00\n",
       "3      2021-05-02 00:00:00\n",
       "4      2021-05-02 12:00:00\n",
       "              ...         \n",
       "318    2021-05-30 20:00:00\n",
       "319    2021-05-31 00:00:00\n",
       "320    2021-05-31 12:00:00\n",
       "321    2021-05-31 16:00:00\n",
       "322    2021-05-31 20:00:00\n",
       "Name: datetime, Length: 323, dtype: object"
      ]
     },
     "execution_count": 81,
     "metadata": {},
     "output_type": "execute_result"
    }
   ],
   "source": [
    "mu['datetime']"
   ]
  },
  {
   "cell_type": "code",
   "execution_count": null,
   "metadata": {},
   "outputs": [],
   "source": []
  }
 ],
 "metadata": {
  "kernelspec": {
   "display_name": "Python 3",
   "language": "python",
   "name": "python3"
  },
  "language_info": {
   "codemirror_mode": {
    "name": "ipython",
    "version": 3
   },
   "file_extension": ".py",
   "mimetype": "text/x-python",
   "name": "python",
   "nbconvert_exporter": "python",
   "pygments_lexer": "ipython3",
   "version": "3.7.4"
  }
 },
 "nbformat": 4,
 "nbformat_minor": 2
}
