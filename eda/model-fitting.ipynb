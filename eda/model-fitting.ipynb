{
 "cells": [
  {
   "cell_type": "code",
   "execution_count": 1,
   "metadata": {},
   "outputs": [],
   "source": [
    "import pandas as pd\n",
    "\n",
    "import matplotlib.pyplot as plt\n",
    "import numpy as np\n",
    "\n",
    "from sklearn.model_selection import train_test_split\n",
    "from sklearn.linear_model import LinearRegression\n",
    "from sklearn.metrics import r2_score\n",
    "from sklearn.ensemble import RandomForestRegressor"
   ]
  },
  {
   "cell_type": "code",
   "execution_count": 2,
   "metadata": {},
   "outputs": [],
   "source": [
    "ONE_MONTH_SIM = \"32763946-5ca3-4ea6-ad39-de91eb9e8908\"\n",
    "THREE_MONTH_SIM = \"b6f34e86-dfdf-4ca3-b218-f3555c7a7f5f\"\n",
    "SIX_MONTH_SIM = \"b017d0c1-304e-411d-a2e0-ea173b4e3200\""
   ]
  },
  {
   "cell_type": "markdown",
   "metadata": {},
   "source": [
    "### Get Data"
   ]
  },
  {
   "cell_type": "code",
   "execution_count": 3,
   "metadata": {},
   "outputs": [],
   "source": [
    "fpath = F\"/Users/porterjenkins/Documents/delicious-ai/code/demand-simulation/experiments/runs/{SIX_MONTH_SIM}/output.csv\""
   ]
  },
  {
   "cell_type": "code",
   "execution_count": 4,
   "metadata": {},
   "outputs": [],
   "source": [
    "dta = pd.read_csv(fpath)\n",
    "dta = dta[dta['display']==\"entrance-cooler\"]\n",
    "dta = dta.sort_values(by='datetime')"
   ]
  },
  {
   "cell_type": "markdown",
   "metadata": {},
   "source": [
    "### EDA"
   ]
  },
  {
   "cell_type": "code",
   "execution_count": 5,
   "metadata": {},
   "outputs": [
    {
     "data": {
      "text/html": [
       "<div>\n",
       "<style scoped>\n",
       "    .dataframe tbody tr th:only-of-type {\n",
       "        vertical-align: middle;\n",
       "    }\n",
       "\n",
       "    .dataframe tbody tr th {\n",
       "        vertical-align: top;\n",
       "    }\n",
       "\n",
       "    .dataframe thead th {\n",
       "        text-align: right;\n",
       "    }\n",
       "</style>\n",
       "<table border=\"1\" class=\"dataframe\">\n",
       "  <thead>\n",
       "    <tr style=\"text-align: right;\">\n",
       "      <th></th>\n",
       "      <th>datetime</th>\n",
       "      <th>product</th>\n",
       "      <th>display</th>\n",
       "      <th>num_slots</th>\n",
       "      <th>quantity_sold</th>\n",
       "      <th>price</th>\n",
       "      <th>revenue</th>\n",
       "    </tr>\n",
       "  </thead>\n",
       "  <tbody>\n",
       "    <tr>\n",
       "      <td>0</td>\n",
       "      <td>2021-05-01 12:00:00</td>\n",
       "      <td>coca_cola_20oz_bottle</td>\n",
       "      <td>entrance-cooler</td>\n",
       "      <td>1</td>\n",
       "      <td>10.0</td>\n",
       "      <td>1.99</td>\n",
       "      <td>19.90</td>\n",
       "    </tr>\n",
       "    <tr>\n",
       "      <td>1</td>\n",
       "      <td>2021-05-01 12:00:00</td>\n",
       "      <td>sprite_20oz_bottle</td>\n",
       "      <td>entrance-cooler</td>\n",
       "      <td>8</td>\n",
       "      <td>8.0</td>\n",
       "      <td>1.99</td>\n",
       "      <td>15.92</td>\n",
       "    </tr>\n",
       "    <tr>\n",
       "      <td>2</td>\n",
       "      <td>2021-05-01 12:00:00</td>\n",
       "      <td>Monster_16oz_can</td>\n",
       "      <td>entrance-cooler</td>\n",
       "      <td>1</td>\n",
       "      <td>10.0</td>\n",
       "      <td>2.99</td>\n",
       "      <td>29.90</td>\n",
       "    </tr>\n",
       "    <tr>\n",
       "      <td>5</td>\n",
       "      <td>2021-05-02 12:00:00</td>\n",
       "      <td>dr_pepper_20oz_bottle</td>\n",
       "      <td>entrance-cooler</td>\n",
       "      <td>1</td>\n",
       "      <td>0.0</td>\n",
       "      <td>0.99</td>\n",
       "      <td>0.00</td>\n",
       "    </tr>\n",
       "    <tr>\n",
       "      <td>6</td>\n",
       "      <td>2021-05-02 12:00:00</td>\n",
       "      <td>diet_coke_20oz_bottle</td>\n",
       "      <td>entrance-cooler</td>\n",
       "      <td>4</td>\n",
       "      <td>0.0</td>\n",
       "      <td>1.99</td>\n",
       "      <td>0.00</td>\n",
       "    </tr>\n",
       "    <tr>\n",
       "      <td>7</td>\n",
       "      <td>2021-05-02 12:00:00</td>\n",
       "      <td>sprite_20oz_bottle</td>\n",
       "      <td>entrance-cooler</td>\n",
       "      <td>3</td>\n",
       "      <td>11.0</td>\n",
       "      <td>1.99</td>\n",
       "      <td>21.89</td>\n",
       "    </tr>\n",
       "    <tr>\n",
       "      <td>8</td>\n",
       "      <td>2021-05-02 12:00:00</td>\n",
       "      <td>Monster_16oz_can</td>\n",
       "      <td>entrance-cooler</td>\n",
       "      <td>2</td>\n",
       "      <td>5.0</td>\n",
       "      <td>2.99</td>\n",
       "      <td>14.95</td>\n",
       "    </tr>\n",
       "    <tr>\n",
       "      <td>15</td>\n",
       "      <td>2021-05-03 12:00:00</td>\n",
       "      <td>coca_cola_20oz_bottle</td>\n",
       "      <td>entrance-cooler</td>\n",
       "      <td>2</td>\n",
       "      <td>0.0</td>\n",
       "      <td>1.99</td>\n",
       "      <td>0.00</td>\n",
       "    </tr>\n",
       "    <tr>\n",
       "      <td>16</td>\n",
       "      <td>2021-05-03 12:00:00</td>\n",
       "      <td>dr_pepper_20oz_bottle</td>\n",
       "      <td>entrance-cooler</td>\n",
       "      <td>3</td>\n",
       "      <td>5.0</td>\n",
       "      <td>0.99</td>\n",
       "      <td>4.95</td>\n",
       "    </tr>\n",
       "    <tr>\n",
       "      <td>17</td>\n",
       "      <td>2021-05-03 12:00:00</td>\n",
       "      <td>diet_coke_20oz_bottle</td>\n",
       "      <td>entrance-cooler</td>\n",
       "      <td>1</td>\n",
       "      <td>2.0</td>\n",
       "      <td>1.99</td>\n",
       "      <td>3.98</td>\n",
       "    </tr>\n",
       "  </tbody>\n",
       "</table>\n",
       "</div>"
      ],
      "text/plain": [
       "               datetime                product          display  num_slots  \\\n",
       "0   2021-05-01 12:00:00  coca_cola_20oz_bottle  entrance-cooler          1   \n",
       "1   2021-05-01 12:00:00     sprite_20oz_bottle  entrance-cooler          8   \n",
       "2   2021-05-01 12:00:00       Monster_16oz_can  entrance-cooler          1   \n",
       "5   2021-05-02 12:00:00  dr_pepper_20oz_bottle  entrance-cooler          1   \n",
       "6   2021-05-02 12:00:00  diet_coke_20oz_bottle  entrance-cooler          4   \n",
       "7   2021-05-02 12:00:00     sprite_20oz_bottle  entrance-cooler          3   \n",
       "8   2021-05-02 12:00:00       Monster_16oz_can  entrance-cooler          2   \n",
       "15  2021-05-03 12:00:00  coca_cola_20oz_bottle  entrance-cooler          2   \n",
       "16  2021-05-03 12:00:00  dr_pepper_20oz_bottle  entrance-cooler          3   \n",
       "17  2021-05-03 12:00:00  diet_coke_20oz_bottle  entrance-cooler          1   \n",
       "\n",
       "    quantity_sold  price  revenue  \n",
       "0            10.0   1.99    19.90  \n",
       "1             8.0   1.99    15.92  \n",
       "2            10.0   2.99    29.90  \n",
       "5             0.0   0.99     0.00  \n",
       "6             0.0   1.99     0.00  \n",
       "7            11.0   1.99    21.89  \n",
       "8             5.0   2.99    14.95  \n",
       "15            0.0   1.99     0.00  \n",
       "16            5.0   0.99     4.95  \n",
       "17            2.0   1.99     3.98  "
      ]
     },
     "execution_count": 5,
     "metadata": {},
     "output_type": "execute_result"
    }
   ],
   "source": [
    "dta.head(10)"
   ]
  },
  {
   "cell_type": "code",
   "execution_count": 6,
   "metadata": {},
   "outputs": [],
   "source": [
    "colors = {\n",
    "    'Monster_16oz_can':'green', \n",
    "    'coca_cola_20oz_bottle':'red', \n",
    "    'diet_coke_20oz_bottle':'gray', \n",
    "    'dr_pepper_20oz_bottle':'orange',\n",
    "    'sprite_20oz_bottle': 'blue'\n",
    "}"
   ]
  },
  {
   "cell_type": "code",
   "execution_count": 7,
   "metadata": {},
   "outputs": [
    {
     "data": {
      "text/plain": [
       "Text(0, 0.5, 'quantity sold')"
      ]
     },
     "execution_count": 7,
     "metadata": {},
     "output_type": "execute_result"
    },
    {
     "data": {
      "image/png": "[encoded data removed]",
      "text/plain": [
       "<Figure size 432x288 with 1 Axes>"
      ]
     },
     "metadata": {
      "needs_background": "light"
     },
     "output_type": "display_data"
    }
   ],
   "source": [
    "plt.scatter(dta[\"num_slots\"], dta[\"quantity_sold\"], c=dta['product'].map(colors))\n",
    "plt.xlabel(\"slots allocated\")\n",
    "plt.ylabel(\"quantity sold\")"
   ]
  },
  {
   "cell_type": "markdown",
   "metadata": {},
   "source": [
    "### Preprocessing"
   ]
  },
  {
   "cell_type": "code",
   "execution_count": 8,
   "metadata": {},
   "outputs": [],
   "source": [
    "slot_cnts = dta.pivot(index='datetime', columns='product', values='num_slots').fillna(0)"
   ]
  },
  {
   "cell_type": "code",
   "execution_count": 9,
   "metadata": {},
   "outputs": [],
   "source": [
    "slot_cols = list(slot_cnts.columns)"
   ]
  },
  {
   "cell_type": "code",
   "execution_count": 10,
   "metadata": {},
   "outputs": [],
   "source": [
    "dta = pd.merge(dta, slot_cnts, on='datetime', how='left')"
   ]
  },
  {
   "cell_type": "code",
   "execution_count": 11,
   "metadata": {},
   "outputs": [],
   "source": [
    "dta['day_of_week'] = pd.to_datetime(dta[\"datetime\"]).dt.dayofweek"
   ]
  },
  {
   "cell_type": "code",
   "execution_count": null,
   "metadata": {},
   "outputs": [],
   "source": []
  },
  {
   "cell_type": "code",
   "execution_count": 12,
   "metadata": {},
   "outputs": [
    {
     "data": {
      "text/html": [
       "<div>\n",
       "<style scoped>\n",
       "    .dataframe tbody tr th:only-of-type {\n",
       "        vertical-align: middle;\n",
       "    }\n",
       "\n",
       "    .dataframe tbody tr th {\n",
       "        vertical-align: top;\n",
       "    }\n",
       "\n",
       "    .dataframe thead th {\n",
       "        text-align: right;\n",
       "    }\n",
       "</style>\n",
       "<table border=\"1\" class=\"dataframe\">\n",
       "  <thead>\n",
       "    <tr style=\"text-align: right;\">\n",
       "      <th></th>\n",
       "      <th>datetime</th>\n",
       "      <th>product</th>\n",
       "      <th>display</th>\n",
       "      <th>num_slots</th>\n",
       "      <th>quantity_sold</th>\n",
       "      <th>price</th>\n",
       "      <th>revenue</th>\n",
       "      <th>Monster_16oz_can</th>\n",
       "      <th>coca_cola_20oz_bottle</th>\n",
       "      <th>diet_coke_20oz_bottle</th>\n",
       "      <th>dr_pepper_20oz_bottle</th>\n",
       "      <th>sprite_20oz_bottle</th>\n",
       "      <th>day_of_week</th>\n",
       "    </tr>\n",
       "  </thead>\n",
       "  <tbody>\n",
       "    <tr>\n",
       "      <td>0</td>\n",
       "      <td>2021-05-01 12:00:00</td>\n",
       "      <td>coca_cola_20oz_bottle</td>\n",
       "      <td>entrance-cooler</td>\n",
       "      <td>1</td>\n",
       "      <td>10.0</td>\n",
       "      <td>1.99</td>\n",
       "      <td>19.90</td>\n",
       "      <td>1.0</td>\n",
       "      <td>1.0</td>\n",
       "      <td>0.0</td>\n",
       "      <td>0.0</td>\n",
       "      <td>8.0</td>\n",
       "      <td>5</td>\n",
       "    </tr>\n",
       "    <tr>\n",
       "      <td>1</td>\n",
       "      <td>2021-05-01 12:00:00</td>\n",
       "      <td>sprite_20oz_bottle</td>\n",
       "      <td>entrance-cooler</td>\n",
       "      <td>8</td>\n",
       "      <td>8.0</td>\n",
       "      <td>1.99</td>\n",
       "      <td>15.92</td>\n",
       "      <td>1.0</td>\n",
       "      <td>1.0</td>\n",
       "      <td>0.0</td>\n",
       "      <td>0.0</td>\n",
       "      <td>8.0</td>\n",
       "      <td>5</td>\n",
       "    </tr>\n",
       "    <tr>\n",
       "      <td>2</td>\n",
       "      <td>2021-05-01 12:00:00</td>\n",
       "      <td>Monster_16oz_can</td>\n",
       "      <td>entrance-cooler</td>\n",
       "      <td>1</td>\n",
       "      <td>10.0</td>\n",
       "      <td>2.99</td>\n",
       "      <td>29.90</td>\n",
       "      <td>1.0</td>\n",
       "      <td>1.0</td>\n",
       "      <td>0.0</td>\n",
       "      <td>0.0</td>\n",
       "      <td>8.0</td>\n",
       "      <td>5</td>\n",
       "    </tr>\n",
       "    <tr>\n",
       "      <td>3</td>\n",
       "      <td>2021-05-02 12:00:00</td>\n",
       "      <td>dr_pepper_20oz_bottle</td>\n",
       "      <td>entrance-cooler</td>\n",
       "      <td>1</td>\n",
       "      <td>0.0</td>\n",
       "      <td>0.99</td>\n",
       "      <td>0.00</td>\n",
       "      <td>2.0</td>\n",
       "      <td>0.0</td>\n",
       "      <td>4.0</td>\n",
       "      <td>1.0</td>\n",
       "      <td>3.0</td>\n",
       "      <td>6</td>\n",
       "    </tr>\n",
       "    <tr>\n",
       "      <td>4</td>\n",
       "      <td>2021-05-02 12:00:00</td>\n",
       "      <td>diet_coke_20oz_bottle</td>\n",
       "      <td>entrance-cooler</td>\n",
       "      <td>4</td>\n",
       "      <td>0.0</td>\n",
       "      <td>1.99</td>\n",
       "      <td>0.00</td>\n",
       "      <td>2.0</td>\n",
       "      <td>0.0</td>\n",
       "      <td>4.0</td>\n",
       "      <td>1.0</td>\n",
       "      <td>3.0</td>\n",
       "      <td>6</td>\n",
       "    </tr>\n",
       "  </tbody>\n",
       "</table>\n",
       "</div>"
      ],
      "text/plain": [
       "              datetime                product          display  num_slots  \\\n",
       "0  2021-05-01 12:00:00  coca_cola_20oz_bottle  entrance-cooler          1   \n",
       "1  2021-05-01 12:00:00     sprite_20oz_bottle  entrance-cooler          8   \n",
       "2  2021-05-01 12:00:00       Monster_16oz_can  entrance-cooler          1   \n",
       "3  2021-05-02 12:00:00  dr_pepper_20oz_bottle  entrance-cooler          1   \n",
       "4  2021-05-02 12:00:00  diet_coke_20oz_bottle  entrance-cooler          4   \n",
       "\n",
       "   quantity_sold  price  revenue  Monster_16oz_can  coca_cola_20oz_bottle  \\\n",
       "0           10.0   1.99    19.90               1.0                    1.0   \n",
       "1            8.0   1.99    15.92               1.0                    1.0   \n",
       "2           10.0   2.99    29.90               1.0                    1.0   \n",
       "3            0.0   0.99     0.00               2.0                    0.0   \n",
       "4            0.0   1.99     0.00               2.0                    0.0   \n",
       "\n",
       "   diet_coke_20oz_bottle  dr_pepper_20oz_bottle  sprite_20oz_bottle  \\\n",
       "0                    0.0                    0.0                 8.0   \n",
       "1                    0.0                    0.0                 8.0   \n",
       "2                    0.0                    0.0                 8.0   \n",
       "3                    4.0                    1.0                 3.0   \n",
       "4                    4.0                    1.0                 3.0   \n",
       "\n",
       "   day_of_week  \n",
       "0            5  \n",
       "1            5  \n",
       "2            5  \n",
       "3            6  \n",
       "4            6  "
      ]
     },
     "execution_count": 12,
     "metadata": {},
     "output_type": "execute_result"
    }
   ],
   "source": [
    "dta.head()"
   ]
  },
  {
   "cell_type": "code",
   "execution_count": 13,
   "metadata": {},
   "outputs": [],
   "source": [
    "naive = dta[['product','revenue']].groupby('product').mean().reset_index()\n",
    "naive.rename(columns={'revenue': 'naive'}, inplace='True')\n",
    "\n",
    "dta = pd.merge(dta, naive, on='product', how='left')"
   ]
  },
  {
   "cell_type": "code",
   "execution_count": 14,
   "metadata": {},
   "outputs": [
    {
     "data": {
      "text/html": [
       "<div>\n",
       "<style scoped>\n",
       "    .dataframe tbody tr th:only-of-type {\n",
       "        vertical-align: middle;\n",
       "    }\n",
       "\n",
       "    .dataframe tbody tr th {\n",
       "        vertical-align: top;\n",
       "    }\n",
       "\n",
       "    .dataframe thead th {\n",
       "        text-align: right;\n",
       "    }\n",
       "</style>\n",
       "<table border=\"1\" class=\"dataframe\">\n",
       "  <thead>\n",
       "    <tr style=\"text-align: right;\">\n",
       "      <th></th>\n",
       "      <th>datetime</th>\n",
       "      <th>product</th>\n",
       "      <th>display</th>\n",
       "      <th>num_slots</th>\n",
       "      <th>quantity_sold</th>\n",
       "      <th>price</th>\n",
       "      <th>revenue</th>\n",
       "      <th>Monster_16oz_can</th>\n",
       "      <th>coca_cola_20oz_bottle</th>\n",
       "      <th>diet_coke_20oz_bottle</th>\n",
       "      <th>dr_pepper_20oz_bottle</th>\n",
       "      <th>sprite_20oz_bottle</th>\n",
       "      <th>day_of_week</th>\n",
       "      <th>naive</th>\n",
       "    </tr>\n",
       "  </thead>\n",
       "  <tbody>\n",
       "    <tr>\n",
       "      <td>0</td>\n",
       "      <td>2021-05-01 12:00:00</td>\n",
       "      <td>coca_cola_20oz_bottle</td>\n",
       "      <td>entrance-cooler</td>\n",
       "      <td>1</td>\n",
       "      <td>10.0</td>\n",
       "      <td>1.99</td>\n",
       "      <td>19.90</td>\n",
       "      <td>1.0</td>\n",
       "      <td>1.0</td>\n",
       "      <td>0.0</td>\n",
       "      <td>0.0</td>\n",
       "      <td>8.0</td>\n",
       "      <td>5</td>\n",
       "      <td>10.061798</td>\n",
       "    </tr>\n",
       "    <tr>\n",
       "      <td>1</td>\n",
       "      <td>2021-05-01 12:00:00</td>\n",
       "      <td>sprite_20oz_bottle</td>\n",
       "      <td>entrance-cooler</td>\n",
       "      <td>8</td>\n",
       "      <td>8.0</td>\n",
       "      <td>1.99</td>\n",
       "      <td>15.92</td>\n",
       "      <td>1.0</td>\n",
       "      <td>1.0</td>\n",
       "      <td>0.0</td>\n",
       "      <td>0.0</td>\n",
       "      <td>8.0</td>\n",
       "      <td>5</td>\n",
       "      <td>8.863025</td>\n",
       "    </tr>\n",
       "    <tr>\n",
       "      <td>2</td>\n",
       "      <td>2021-05-01 12:00:00</td>\n",
       "      <td>Monster_16oz_can</td>\n",
       "      <td>entrance-cooler</td>\n",
       "      <td>1</td>\n",
       "      <td>10.0</td>\n",
       "      <td>2.99</td>\n",
       "      <td>29.90</td>\n",
       "      <td>1.0</td>\n",
       "      <td>1.0</td>\n",
       "      <td>0.0</td>\n",
       "      <td>0.0</td>\n",
       "      <td>8.0</td>\n",
       "      <td>5</td>\n",
       "      <td>28.272111</td>\n",
       "    </tr>\n",
       "    <tr>\n",
       "      <td>3</td>\n",
       "      <td>2021-05-02 12:00:00</td>\n",
       "      <td>dr_pepper_20oz_bottle</td>\n",
       "      <td>entrance-cooler</td>\n",
       "      <td>1</td>\n",
       "      <td>0.0</td>\n",
       "      <td>0.99</td>\n",
       "      <td>0.00</td>\n",
       "      <td>2.0</td>\n",
       "      <td>0.0</td>\n",
       "      <td>4.0</td>\n",
       "      <td>1.0</td>\n",
       "      <td>3.0</td>\n",
       "      <td>6</td>\n",
       "      <td>3.877500</td>\n",
       "    </tr>\n",
       "    <tr>\n",
       "      <td>4</td>\n",
       "      <td>2021-05-02 12:00:00</td>\n",
       "      <td>diet_coke_20oz_bottle</td>\n",
       "      <td>entrance-cooler</td>\n",
       "      <td>4</td>\n",
       "      <td>0.0</td>\n",
       "      <td>1.99</td>\n",
       "      <td>0.00</td>\n",
       "      <td>2.0</td>\n",
       "      <td>0.0</td>\n",
       "      <td>4.0</td>\n",
       "      <td>1.0</td>\n",
       "      <td>3.0</td>\n",
       "      <td>6</td>\n",
       "      <td>7.249286</td>\n",
       "    </tr>\n",
       "  </tbody>\n",
       "</table>\n",
       "</div>"
      ],
      "text/plain": [
       "              datetime                product          display  num_slots  \\\n",
       "0  2021-05-01 12:00:00  coca_cola_20oz_bottle  entrance-cooler          1   \n",
       "1  2021-05-01 12:00:00     sprite_20oz_bottle  entrance-cooler          8   \n",
       "2  2021-05-01 12:00:00       Monster_16oz_can  entrance-cooler          1   \n",
       "3  2021-05-02 12:00:00  dr_pepper_20oz_bottle  entrance-cooler          1   \n",
       "4  2021-05-02 12:00:00  diet_coke_20oz_bottle  entrance-cooler          4   \n",
       "\n",
       "   quantity_sold  price  revenue  Monster_16oz_can  coca_cola_20oz_bottle  \\\n",
       "0           10.0   1.99    19.90               1.0                    1.0   \n",
       "1            8.0   1.99    15.92               1.0                    1.0   \n",
       "2           10.0   2.99    29.90               1.0                    1.0   \n",
       "3            0.0   0.99     0.00               2.0                    0.0   \n",
       "4            0.0   1.99     0.00               2.0                    0.0   \n",
       "\n",
       "   diet_coke_20oz_bottle  dr_pepper_20oz_bottle  sprite_20oz_bottle  \\\n",
       "0                    0.0                    0.0                 8.0   \n",
       "1                    0.0                    0.0                 8.0   \n",
       "2                    0.0                    0.0                 8.0   \n",
       "3                    4.0                    1.0                 3.0   \n",
       "4                    4.0                    1.0                 3.0   \n",
       "\n",
       "   day_of_week      naive  \n",
       "0            5  10.061798  \n",
       "1            5   8.863025  \n",
       "2            5  28.272111  \n",
       "3            6   3.877500  \n",
       "4            6   7.249286  "
      ]
     },
     "execution_count": 14,
     "metadata": {},
     "output_type": "execute_result"
    }
   ],
   "source": [
    "dta.head()"
   ]
  },
  {
   "cell_type": "code",
   "execution_count": 73,
   "metadata": {},
   "outputs": [
    {
     "data": {
      "image/png": "[encoded data removed]",
      "text/plain": [
       "<Figure size 1152x1152 with 25 Axes>"
      ]
     },
     "metadata": {
      "needs_background": "light"
     },
     "output_type": "display_data"
    }
   ],
   "source": [
    "#fig = plt.figure()\n",
    "pd.plotting.scatter_matrix(dta[['num_slots', 'price', 'day_of_week', 'product', 'quantity_sold', 'revenue']], figsize=(16,16))\n",
    "#plt.savefig(\"scatter.png\")\n",
    "plt.show()"
   ]
  },
  {
   "cell_type": "code",
   "execution_count": 15,
   "metadata": {},
   "outputs": [],
   "source": [
    "prod_one_hot = pd.get_dummies(dta['product'], prefix='product_one_hot')"
   ]
  },
  {
   "cell_type": "code",
   "execution_count": 16,
   "metadata": {},
   "outputs": [],
   "source": [
    "X = dta[['price', 'day_of_week', 'num_slots']]"
   ]
  },
  {
   "cell_type": "code",
   "execution_count": 17,
   "metadata": {},
   "outputs": [],
   "source": [
    "X = pd.concat([X, prod_one_hot], axis=1)"
   ]
  },
  {
   "cell_type": "code",
   "execution_count": 18,
   "metadata": {},
   "outputs": [
    {
     "data": {
      "text/html": [
       "<div>\n",
       "<style scoped>\n",
       "    .dataframe tbody tr th:only-of-type {\n",
       "        vertical-align: middle;\n",
       "    }\n",
       "\n",
       "    .dataframe tbody tr th {\n",
       "        vertical-align: top;\n",
       "    }\n",
       "\n",
       "    .dataframe thead th {\n",
       "        text-align: right;\n",
       "    }\n",
       "</style>\n",
       "<table border=\"1\" class=\"dataframe\">\n",
       "  <thead>\n",
       "    <tr style=\"text-align: right;\">\n",
       "      <th></th>\n",
       "      <th>price</th>\n",
       "      <th>day_of_week</th>\n",
       "      <th>num_slots</th>\n",
       "      <th>product_one_hot_Monster_16oz_can</th>\n",
       "      <th>product_one_hot_coca_cola_20oz_bottle</th>\n",
       "      <th>product_one_hot_diet_coke_20oz_bottle</th>\n",
       "      <th>product_one_hot_dr_pepper_20oz_bottle</th>\n",
       "      <th>product_one_hot_sprite_20oz_bottle</th>\n",
       "    </tr>\n",
       "  </thead>\n",
       "  <tbody>\n",
       "    <tr>\n",
       "      <td>0</td>\n",
       "      <td>1.99</td>\n",
       "      <td>5</td>\n",
       "      <td>1</td>\n",
       "      <td>0</td>\n",
       "      <td>1</td>\n",
       "      <td>0</td>\n",
       "      <td>0</td>\n",
       "      <td>0</td>\n",
       "    </tr>\n",
       "    <tr>\n",
       "      <td>1</td>\n",
       "      <td>1.99</td>\n",
       "      <td>5</td>\n",
       "      <td>8</td>\n",
       "      <td>0</td>\n",
       "      <td>0</td>\n",
       "      <td>0</td>\n",
       "      <td>0</td>\n",
       "      <td>1</td>\n",
       "    </tr>\n",
       "    <tr>\n",
       "      <td>2</td>\n",
       "      <td>2.99</td>\n",
       "      <td>5</td>\n",
       "      <td>1</td>\n",
       "      <td>1</td>\n",
       "      <td>0</td>\n",
       "      <td>0</td>\n",
       "      <td>0</td>\n",
       "      <td>0</td>\n",
       "    </tr>\n",
       "    <tr>\n",
       "      <td>3</td>\n",
       "      <td>0.99</td>\n",
       "      <td>6</td>\n",
       "      <td>1</td>\n",
       "      <td>0</td>\n",
       "      <td>0</td>\n",
       "      <td>0</td>\n",
       "      <td>1</td>\n",
       "      <td>0</td>\n",
       "    </tr>\n",
       "    <tr>\n",
       "      <td>4</td>\n",
       "      <td>1.99</td>\n",
       "      <td>6</td>\n",
       "      <td>4</td>\n",
       "      <td>0</td>\n",
       "      <td>0</td>\n",
       "      <td>1</td>\n",
       "      <td>0</td>\n",
       "      <td>0</td>\n",
       "    </tr>\n",
       "  </tbody>\n",
       "</table>\n",
       "</div>"
      ],
      "text/plain": [
       "   price  day_of_week  num_slots  product_one_hot_Monster_16oz_can  \\\n",
       "0   1.99            5          1                                 0   \n",
       "1   1.99            5          8                                 0   \n",
       "2   2.99            5          1                                 1   \n",
       "3   0.99            6          1                                 0   \n",
       "4   1.99            6          4                                 0   \n",
       "\n",
       "   product_one_hot_coca_cola_20oz_bottle  \\\n",
       "0                                      1   \n",
       "1                                      0   \n",
       "2                                      0   \n",
       "3                                      0   \n",
       "4                                      0   \n",
       "\n",
       "   product_one_hot_diet_coke_20oz_bottle  \\\n",
       "0                                      0   \n",
       "1                                      0   \n",
       "2                                      0   \n",
       "3                                      0   \n",
       "4                                      1   \n",
       "\n",
       "   product_one_hot_dr_pepper_20oz_bottle  product_one_hot_sprite_20oz_bottle  \n",
       "0                                      0                                   0  \n",
       "1                                      0                                   1  \n",
       "2                                      0                                   0  \n",
       "3                                      1                                   0  \n",
       "4                                      0                                   0  "
      ]
     },
     "execution_count": 18,
     "metadata": {},
     "output_type": "execute_result"
    }
   ],
   "source": [
    "X.head()"
   ]
  },
  {
   "cell_type": "code",
   "execution_count": 19,
   "metadata": {},
   "outputs": [],
   "source": [
    "y = dta[['revenue','price', 'quantity_sold', 'naive']]"
   ]
  },
  {
   "cell_type": "code",
   "execution_count": 20,
   "metadata": {},
   "outputs": [
    {
     "data": {
      "text/html": [
       "<div>\n",
       "<style scoped>\n",
       "    .dataframe tbody tr th:only-of-type {\n",
       "        vertical-align: middle;\n",
       "    }\n",
       "\n",
       "    .dataframe tbody tr th {\n",
       "        vertical-align: top;\n",
       "    }\n",
       "\n",
       "    .dataframe thead th {\n",
       "        text-align: right;\n",
       "    }\n",
       "</style>\n",
       "<table border=\"1\" class=\"dataframe\">\n",
       "  <thead>\n",
       "    <tr style=\"text-align: right;\">\n",
       "      <th></th>\n",
       "      <th>revenue</th>\n",
       "      <th>price</th>\n",
       "      <th>quantity_sold</th>\n",
       "      <th>naive</th>\n",
       "    </tr>\n",
       "  </thead>\n",
       "  <tbody>\n",
       "    <tr>\n",
       "      <td>0</td>\n",
       "      <td>19.90</td>\n",
       "      <td>1.99</td>\n",
       "      <td>10.0</td>\n",
       "      <td>10.061798</td>\n",
       "    </tr>\n",
       "    <tr>\n",
       "      <td>1</td>\n",
       "      <td>15.92</td>\n",
       "      <td>1.99</td>\n",
       "      <td>8.0</td>\n",
       "      <td>8.863025</td>\n",
       "    </tr>\n",
       "    <tr>\n",
       "      <td>2</td>\n",
       "      <td>29.90</td>\n",
       "      <td>2.99</td>\n",
       "      <td>10.0</td>\n",
       "      <td>28.272111</td>\n",
       "    </tr>\n",
       "    <tr>\n",
       "      <td>3</td>\n",
       "      <td>0.00</td>\n",
       "      <td>0.99</td>\n",
       "      <td>0.0</td>\n",
       "      <td>3.877500</td>\n",
       "    </tr>\n",
       "    <tr>\n",
       "      <td>4</td>\n",
       "      <td>0.00</td>\n",
       "      <td>1.99</td>\n",
       "      <td>0.0</td>\n",
       "      <td>7.249286</td>\n",
       "    </tr>\n",
       "  </tbody>\n",
       "</table>\n",
       "</div>"
      ],
      "text/plain": [
       "   revenue  price  quantity_sold      naive\n",
       "0    19.90   1.99           10.0  10.061798\n",
       "1    15.92   1.99            8.0   8.863025\n",
       "2    29.90   2.99           10.0  28.272111\n",
       "3     0.00   0.99            0.0   3.877500\n",
       "4     0.00   1.99            0.0   7.249286"
      ]
     },
     "execution_count": 20,
     "metadata": {},
     "output_type": "execute_result"
    }
   ],
   "source": [
    "y.head()"
   ]
  },
  {
   "cell_type": "code",
   "execution_count": 21,
   "metadata": {},
   "outputs": [
    {
     "data": {
      "text/plain": [
       "(518, 8)"
      ]
     },
     "execution_count": 21,
     "metadata": {},
     "output_type": "execute_result"
    }
   ],
   "source": [
    "X.shape"
   ]
  },
  {
   "cell_type": "code",
   "execution_count": 22,
   "metadata": {},
   "outputs": [
    {
     "data": {
      "text/plain": [
       "(518, 4)"
      ]
     },
     "execution_count": 22,
     "metadata": {},
     "output_type": "execute_result"
    }
   ],
   "source": [
    "y.shape"
   ]
  },
  {
   "cell_type": "code",
   "execution_count": 23,
   "metadata": {},
   "outputs": [
    {
     "data": {
      "text/html": [
       "<div>\n",
       "<style scoped>\n",
       "    .dataframe tbody tr th:only-of-type {\n",
       "        vertical-align: middle;\n",
       "    }\n",
       "\n",
       "    .dataframe tbody tr th {\n",
       "        vertical-align: top;\n",
       "    }\n",
       "\n",
       "    .dataframe thead th {\n",
       "        text-align: right;\n",
       "    }\n",
       "</style>\n",
       "<table border=\"1\" class=\"dataframe\">\n",
       "  <thead>\n",
       "    <tr style=\"text-align: right;\">\n",
       "      <th></th>\n",
       "      <th>price</th>\n",
       "      <th>day_of_week</th>\n",
       "      <th>num_slots</th>\n",
       "      <th>product_one_hot_Monster_16oz_can</th>\n",
       "      <th>product_one_hot_coca_cola_20oz_bottle</th>\n",
       "      <th>product_one_hot_diet_coke_20oz_bottle</th>\n",
       "      <th>product_one_hot_dr_pepper_20oz_bottle</th>\n",
       "      <th>product_one_hot_sprite_20oz_bottle</th>\n",
       "    </tr>\n",
       "  </thead>\n",
       "  <tbody>\n",
       "    <tr>\n",
       "      <td>0</td>\n",
       "      <td>1.99</td>\n",
       "      <td>5</td>\n",
       "      <td>1</td>\n",
       "      <td>0</td>\n",
       "      <td>1</td>\n",
       "      <td>0</td>\n",
       "      <td>0</td>\n",
       "      <td>0</td>\n",
       "    </tr>\n",
       "    <tr>\n",
       "      <td>1</td>\n",
       "      <td>1.99</td>\n",
       "      <td>5</td>\n",
       "      <td>8</td>\n",
       "      <td>0</td>\n",
       "      <td>0</td>\n",
       "      <td>0</td>\n",
       "      <td>0</td>\n",
       "      <td>1</td>\n",
       "    </tr>\n",
       "    <tr>\n",
       "      <td>2</td>\n",
       "      <td>2.99</td>\n",
       "      <td>5</td>\n",
       "      <td>1</td>\n",
       "      <td>1</td>\n",
       "      <td>0</td>\n",
       "      <td>0</td>\n",
       "      <td>0</td>\n",
       "      <td>0</td>\n",
       "    </tr>\n",
       "    <tr>\n",
       "      <td>3</td>\n",
       "      <td>0.99</td>\n",
       "      <td>6</td>\n",
       "      <td>1</td>\n",
       "      <td>0</td>\n",
       "      <td>0</td>\n",
       "      <td>0</td>\n",
       "      <td>1</td>\n",
       "      <td>0</td>\n",
       "    </tr>\n",
       "    <tr>\n",
       "      <td>4</td>\n",
       "      <td>1.99</td>\n",
       "      <td>6</td>\n",
       "      <td>4</td>\n",
       "      <td>0</td>\n",
       "      <td>0</td>\n",
       "      <td>1</td>\n",
       "      <td>0</td>\n",
       "      <td>0</td>\n",
       "    </tr>\n",
       "    <tr>\n",
       "      <td>...</td>\n",
       "      <td>...</td>\n",
       "      <td>...</td>\n",
       "      <td>...</td>\n",
       "      <td>...</td>\n",
       "      <td>...</td>\n",
       "      <td>...</td>\n",
       "      <td>...</td>\n",
       "      <td>...</td>\n",
       "    </tr>\n",
       "    <tr>\n",
       "      <td>513</td>\n",
       "      <td>1.99</td>\n",
       "      <td>5</td>\n",
       "      <td>9</td>\n",
       "      <td>0</td>\n",
       "      <td>1</td>\n",
       "      <td>0</td>\n",
       "      <td>0</td>\n",
       "      <td>0</td>\n",
       "    </tr>\n",
       "    <tr>\n",
       "      <td>514</td>\n",
       "      <td>1.99</td>\n",
       "      <td>5</td>\n",
       "      <td>1</td>\n",
       "      <td>0</td>\n",
       "      <td>0</td>\n",
       "      <td>0</td>\n",
       "      <td>0</td>\n",
       "      <td>1</td>\n",
       "    </tr>\n",
       "    <tr>\n",
       "      <td>515</td>\n",
       "      <td>1.99</td>\n",
       "      <td>6</td>\n",
       "      <td>1</td>\n",
       "      <td>0</td>\n",
       "      <td>0</td>\n",
       "      <td>0</td>\n",
       "      <td>0</td>\n",
       "      <td>1</td>\n",
       "    </tr>\n",
       "    <tr>\n",
       "      <td>516</td>\n",
       "      <td>1.99</td>\n",
       "      <td>6</td>\n",
       "      <td>7</td>\n",
       "      <td>0</td>\n",
       "      <td>0</td>\n",
       "      <td>1</td>\n",
       "      <td>0</td>\n",
       "      <td>0</td>\n",
       "    </tr>\n",
       "    <tr>\n",
       "      <td>517</td>\n",
       "      <td>2.99</td>\n",
       "      <td>6</td>\n",
       "      <td>2</td>\n",
       "      <td>1</td>\n",
       "      <td>0</td>\n",
       "      <td>0</td>\n",
       "      <td>0</td>\n",
       "      <td>0</td>\n",
       "    </tr>\n",
       "  </tbody>\n",
       "</table>\n",
       "<p>518 rows × 8 columns</p>\n",
       "</div>"
      ],
      "text/plain": [
       "     price  day_of_week  num_slots  product_one_hot_Monster_16oz_can  \\\n",
       "0     1.99            5          1                                 0   \n",
       "1     1.99            5          8                                 0   \n",
       "2     2.99            5          1                                 1   \n",
       "3     0.99            6          1                                 0   \n",
       "4     1.99            6          4                                 0   \n",
       "..     ...          ...        ...                               ...   \n",
       "513   1.99            5          9                                 0   \n",
       "514   1.99            5          1                                 0   \n",
       "515   1.99            6          1                                 0   \n",
       "516   1.99            6          7                                 0   \n",
       "517   2.99            6          2                                 1   \n",
       "\n",
       "     product_one_hot_coca_cola_20oz_bottle  \\\n",
       "0                                        1   \n",
       "1                                        0   \n",
       "2                                        0   \n",
       "3                                        0   \n",
       "4                                        0   \n",
       "..                                     ...   \n",
       "513                                      1   \n",
       "514                                      0   \n",
       "515                                      0   \n",
       "516                                      0   \n",
       "517                                      0   \n",
       "\n",
       "     product_one_hot_diet_coke_20oz_bottle  \\\n",
       "0                                        0   \n",
       "1                                        0   \n",
       "2                                        0   \n",
       "3                                        0   \n",
       "4                                        1   \n",
       "..                                     ...   \n",
       "513                                      0   \n",
       "514                                      0   \n",
       "515                                      0   \n",
       "516                                      1   \n",
       "517                                      0   \n",
       "\n",
       "     product_one_hot_dr_pepper_20oz_bottle  product_one_hot_sprite_20oz_bottle  \n",
       "0                                        0                                   0  \n",
       "1                                        0                                   1  \n",
       "2                                        0                                   0  \n",
       "3                                        1                                   0  \n",
       "4                                        0                                   0  \n",
       "..                                     ...                                 ...  \n",
       "513                                      0                                   0  \n",
       "514                                      0                                   1  \n",
       "515                                      0                                   1  \n",
       "516                                      0                                   0  \n",
       "517                                      0                                   0  \n",
       "\n",
       "[518 rows x 8 columns]"
      ]
     },
     "execution_count": 23,
     "metadata": {},
     "output_type": "execute_result"
    }
   ],
   "source": [
    "X"
   ]
  },
  {
   "cell_type": "markdown",
   "metadata": {},
   "source": [
    "## Train/Test Split"
   ]
  },
  {
   "cell_type": "code",
   "execution_count": null,
   "metadata": {},
   "outputs": [],
   "source": []
  },
  {
   "cell_type": "code",
   "execution_count": 44,
   "metadata": {},
   "outputs": [],
   "source": [
    "X_train, X_test, y_train, y_test = train_test_split(X, y, test_size=0.2)"
   ]
  },
  {
   "cell_type": "markdown",
   "metadata": {},
   "source": [
    "### Linear Regression"
   ]
  },
  {
   "cell_type": "code",
   "execution_count": 45,
   "metadata": {},
   "outputs": [],
   "source": [
    "TARGET = 'quantity_sold'"
   ]
  },
  {
   "cell_type": "code",
   "execution_count": 46,
   "metadata": {},
   "outputs": [],
   "source": [
    "#model = LinearRegression()\n",
    "model = RandomForestRegressor()"
   ]
  },
  {
   "cell_type": "code",
   "execution_count": 47,
   "metadata": {},
   "outputs": [
    {
     "data": {
      "text/plain": [
       "RandomForestRegressor(bootstrap=True, criterion='mse', max_depth=None,\n",
       "                      max_features='auto', max_leaf_nodes=None,\n",
       "                      min_impurity_decrease=0.0, min_impurity_split=None,\n",
       "                      min_samples_leaf=1, min_samples_split=2,\n",
       "                      min_weight_fraction_leaf=0.0, n_estimators='warn',\n",
       "                      n_jobs=None, oob_score=False, random_state=None,\n",
       "                      verbose=0, warm_start=False)"
      ]
     },
     "execution_count": 47,
     "metadata": {},
     "output_type": "execute_result"
    }
   ],
   "source": [
    "model "
   ]
  },
  {
   "cell_type": "code",
   "execution_count": 48,
   "metadata": {},
   "outputs": [
    {
     "data": {
      "text/html": [
       "<div>\n",
       "<style scoped>\n",
       "    .dataframe tbody tr th:only-of-type {\n",
       "        vertical-align: middle;\n",
       "    }\n",
       "\n",
       "    .dataframe tbody tr th {\n",
       "        vertical-align: top;\n",
       "    }\n",
       "\n",
       "    .dataframe thead th {\n",
       "        text-align: right;\n",
       "    }\n",
       "</style>\n",
       "<table border=\"1\" class=\"dataframe\">\n",
       "  <thead>\n",
       "    <tr style=\"text-align: right;\">\n",
       "      <th></th>\n",
       "      <th>price</th>\n",
       "      <th>day_of_week</th>\n",
       "      <th>num_slots</th>\n",
       "      <th>product_one_hot_Monster_16oz_can</th>\n",
       "      <th>product_one_hot_coca_cola_20oz_bottle</th>\n",
       "      <th>product_one_hot_diet_coke_20oz_bottle</th>\n",
       "      <th>product_one_hot_dr_pepper_20oz_bottle</th>\n",
       "      <th>product_one_hot_sprite_20oz_bottle</th>\n",
       "    </tr>\n",
       "  </thead>\n",
       "  <tbody>\n",
       "    <tr>\n",
       "      <td>138</td>\n",
       "      <td>2.99</td>\n",
       "      <td>0</td>\n",
       "      <td>3</td>\n",
       "      <td>1</td>\n",
       "      <td>0</td>\n",
       "      <td>0</td>\n",
       "      <td>0</td>\n",
       "      <td>0</td>\n",
       "    </tr>\n",
       "    <tr>\n",
       "      <td>74</td>\n",
       "      <td>1.99</td>\n",
       "      <td>5</td>\n",
       "      <td>4</td>\n",
       "      <td>0</td>\n",
       "      <td>1</td>\n",
       "      <td>0</td>\n",
       "      <td>0</td>\n",
       "      <td>0</td>\n",
       "    </tr>\n",
       "    <tr>\n",
       "      <td>263</td>\n",
       "      <td>1.99</td>\n",
       "      <td>2</td>\n",
       "      <td>8</td>\n",
       "      <td>0</td>\n",
       "      <td>0</td>\n",
       "      <td>0</td>\n",
       "      <td>0</td>\n",
       "      <td>1</td>\n",
       "    </tr>\n",
       "    <tr>\n",
       "      <td>500</td>\n",
       "      <td>1.99</td>\n",
       "      <td>1</td>\n",
       "      <td>6</td>\n",
       "      <td>0</td>\n",
       "      <td>0</td>\n",
       "      <td>1</td>\n",
       "      <td>0</td>\n",
       "      <td>0</td>\n",
       "    </tr>\n",
       "    <tr>\n",
       "      <td>48</td>\n",
       "      <td>0.99</td>\n",
       "      <td>1</td>\n",
       "      <td>1</td>\n",
       "      <td>0</td>\n",
       "      <td>0</td>\n",
       "      <td>0</td>\n",
       "      <td>1</td>\n",
       "      <td>0</td>\n",
       "    </tr>\n",
       "  </tbody>\n",
       "</table>\n",
       "</div>"
      ],
      "text/plain": [
       "     price  day_of_week  num_slots  product_one_hot_Monster_16oz_can  \\\n",
       "138   2.99            0          3                                 1   \n",
       "74    1.99            5          4                                 0   \n",
       "263   1.99            2          8                                 0   \n",
       "500   1.99            1          6                                 0   \n",
       "48    0.99            1          1                                 0   \n",
       "\n",
       "     product_one_hot_coca_cola_20oz_bottle  \\\n",
       "138                                      0   \n",
       "74                                       1   \n",
       "263                                      0   \n",
       "500                                      0   \n",
       "48                                       0   \n",
       "\n",
       "     product_one_hot_diet_coke_20oz_bottle  \\\n",
       "138                                      0   \n",
       "74                                       0   \n",
       "263                                      0   \n",
       "500                                      1   \n",
       "48                                       0   \n",
       "\n",
       "     product_one_hot_dr_pepper_20oz_bottle  product_one_hot_sprite_20oz_bottle  \n",
       "138                                      0                                   0  \n",
       "74                                       0                                   0  \n",
       "263                                      0                                   1  \n",
       "500                                      0                                   0  \n",
       "48                                       1                                   0  "
      ]
     },
     "execution_count": 48,
     "metadata": {},
     "output_type": "execute_result"
    }
   ],
   "source": [
    "X_train.head()"
   ]
  },
  {
   "cell_type": "code",
   "execution_count": 63,
   "metadata": {},
   "outputs": [
    {
     "data": {
      "text/html": [
       "<div>\n",
       "<style scoped>\n",
       "    .dataframe tbody tr th:only-of-type {\n",
       "        vertical-align: middle;\n",
       "    }\n",
       "\n",
       "    .dataframe tbody tr th {\n",
       "        vertical-align: top;\n",
       "    }\n",
       "\n",
       "    .dataframe thead th {\n",
       "        text-align: right;\n",
       "    }\n",
       "</style>\n",
       "<table border=\"1\" class=\"dataframe\">\n",
       "  <thead>\n",
       "    <tr style=\"text-align: right;\">\n",
       "      <th></th>\n",
       "      <th>revenue</th>\n",
       "      <th>price</th>\n",
       "      <th>quantity_sold</th>\n",
       "      <th>naive</th>\n",
       "    </tr>\n",
       "  </thead>\n",
       "  <tbody>\n",
       "    <tr>\n",
       "      <td>280</td>\n",
       "      <td>74.75</td>\n",
       "      <td>2.99</td>\n",
       "      <td>25.0</td>\n",
       "      <td>28.272111</td>\n",
       "    </tr>\n",
       "    <tr>\n",
       "      <td>21</td>\n",
       "      <td>0.00</td>\n",
       "      <td>1.99</td>\n",
       "      <td>0.0</td>\n",
       "      <td>8.863025</td>\n",
       "    </tr>\n",
       "    <tr>\n",
       "      <td>0</td>\n",
       "      <td>19.90</td>\n",
       "      <td>1.99</td>\n",
       "      <td>10.0</td>\n",
       "      <td>10.061798</td>\n",
       "    </tr>\n",
       "    <tr>\n",
       "      <td>206</td>\n",
       "      <td>0.00</td>\n",
       "      <td>2.99</td>\n",
       "      <td>0.0</td>\n",
       "      <td>28.272111</td>\n",
       "    </tr>\n",
       "    <tr>\n",
       "      <td>414</td>\n",
       "      <td>0.00</td>\n",
       "      <td>1.99</td>\n",
       "      <td>0.0</td>\n",
       "      <td>8.863025</td>\n",
       "    </tr>\n",
       "  </tbody>\n",
       "</table>\n",
       "</div>"
      ],
      "text/plain": [
       "     revenue  price  quantity_sold      naive\n",
       "280    74.75   2.99           25.0  28.272111\n",
       "21      0.00   1.99            0.0   8.863025\n",
       "0      19.90   1.99           10.0  10.061798\n",
       "206     0.00   2.99            0.0  28.272111\n",
       "414     0.00   1.99            0.0   8.863025"
      ]
     },
     "execution_count": 63,
     "metadata": {},
     "output_type": "execute_result"
    }
   ],
   "source": [
    "y_test.head()"
   ]
  },
  {
   "cell_type": "code",
   "execution_count": 49,
   "metadata": {},
   "outputs": [
    {
     "name": "stderr",
     "output_type": "stream",
     "text": [
      "/opt/anaconda3/envs/allocation-rl/lib/python3.7/site-packages/sklearn/ensemble/forest.py:245: FutureWarning: The default value of n_estimators will change from 10 in version 0.20 to 100 in 0.22.\n",
      "  \"10 in version 0.20 to 100 in 0.22.\", FutureWarning)\n"
     ]
    },
    {
     "data": {
      "text/plain": [
       "RandomForestRegressor(bootstrap=True, criterion='mse', max_depth=None,\n",
       "                      max_features='auto', max_leaf_nodes=None,\n",
       "                      min_impurity_decrease=0.0, min_impurity_split=None,\n",
       "                      min_samples_leaf=1, min_samples_split=2,\n",
       "                      min_weight_fraction_leaf=0.0, n_estimators=10,\n",
       "                      n_jobs=None, oob_score=False, random_state=None,\n",
       "                      verbose=0, warm_start=False)"
      ]
     },
     "execution_count": 49,
     "metadata": {},
     "output_type": "execute_result"
    }
   ],
   "source": [
    "model.fit(X_train, y_train[TARGET])"
   ]
  },
  {
   "cell_type": "code",
   "execution_count": 50,
   "metadata": {},
   "outputs": [
    {
     "data": {
      "text/html": [
       "<div>\n",
       "<style scoped>\n",
       "    .dataframe tbody tr th:only-of-type {\n",
       "        vertical-align: middle;\n",
       "    }\n",
       "\n",
       "    .dataframe tbody tr th {\n",
       "        vertical-align: top;\n",
       "    }\n",
       "\n",
       "    .dataframe thead th {\n",
       "        text-align: right;\n",
       "    }\n",
       "</style>\n",
       "<table border=\"1\" class=\"dataframe\">\n",
       "  <thead>\n",
       "    <tr style=\"text-align: right;\">\n",
       "      <th></th>\n",
       "      <th>revenue</th>\n",
       "      <th>price</th>\n",
       "      <th>quantity_sold</th>\n",
       "      <th>naive</th>\n",
       "    </tr>\n",
       "  </thead>\n",
       "  <tbody>\n",
       "    <tr>\n",
       "      <td>280</td>\n",
       "      <td>74.75</td>\n",
       "      <td>2.99</td>\n",
       "      <td>25.0</td>\n",
       "      <td>28.272111</td>\n",
       "    </tr>\n",
       "    <tr>\n",
       "      <td>21</td>\n",
       "      <td>0.00</td>\n",
       "      <td>1.99</td>\n",
       "      <td>0.0</td>\n",
       "      <td>8.863025</td>\n",
       "    </tr>\n",
       "    <tr>\n",
       "      <td>0</td>\n",
       "      <td>19.90</td>\n",
       "      <td>1.99</td>\n",
       "      <td>10.0</td>\n",
       "      <td>10.061798</td>\n",
       "    </tr>\n",
       "    <tr>\n",
       "      <td>206</td>\n",
       "      <td>0.00</td>\n",
       "      <td>2.99</td>\n",
       "      <td>0.0</td>\n",
       "      <td>28.272111</td>\n",
       "    </tr>\n",
       "    <tr>\n",
       "      <td>414</td>\n",
       "      <td>0.00</td>\n",
       "      <td>1.99</td>\n",
       "      <td>0.0</td>\n",
       "      <td>8.863025</td>\n",
       "    </tr>\n",
       "    <tr>\n",
       "      <td>...</td>\n",
       "      <td>...</td>\n",
       "      <td>...</td>\n",
       "      <td>...</td>\n",
       "      <td>...</td>\n",
       "    </tr>\n",
       "    <tr>\n",
       "      <td>496</td>\n",
       "      <td>3.96</td>\n",
       "      <td>0.99</td>\n",
       "      <td>4.0</td>\n",
       "      <td>3.877500</td>\n",
       "    </tr>\n",
       "    <tr>\n",
       "      <td>458</td>\n",
       "      <td>21.89</td>\n",
       "      <td>1.99</td>\n",
       "      <td>11.0</td>\n",
       "      <td>10.061798</td>\n",
       "    </tr>\n",
       "    <tr>\n",
       "      <td>404</td>\n",
       "      <td>0.00</td>\n",
       "      <td>2.99</td>\n",
       "      <td>0.0</td>\n",
       "      <td>28.272111</td>\n",
       "    </tr>\n",
       "    <tr>\n",
       "      <td>397</td>\n",
       "      <td>19.90</td>\n",
       "      <td>1.99</td>\n",
       "      <td>10.0</td>\n",
       "      <td>10.061798</td>\n",
       "    </tr>\n",
       "    <tr>\n",
       "      <td>56</td>\n",
       "      <td>0.00</td>\n",
       "      <td>0.99</td>\n",
       "      <td>0.0</td>\n",
       "      <td>3.877500</td>\n",
       "    </tr>\n",
       "  </tbody>\n",
       "</table>\n",
       "<p>104 rows × 4 columns</p>\n",
       "</div>"
      ],
      "text/plain": [
       "     revenue  price  quantity_sold      naive\n",
       "280    74.75   2.99           25.0  28.272111\n",
       "21      0.00   1.99            0.0   8.863025\n",
       "0      19.90   1.99           10.0  10.061798\n",
       "206     0.00   2.99            0.0  28.272111\n",
       "414     0.00   1.99            0.0   8.863025\n",
       "..       ...    ...            ...        ...\n",
       "496     3.96   0.99            4.0   3.877500\n",
       "458    21.89   1.99           11.0  10.061798\n",
       "404     0.00   2.99            0.0  28.272111\n",
       "397    19.90   1.99           10.0  10.061798\n",
       "56      0.00   0.99            0.0   3.877500\n",
       "\n",
       "[104 rows x 4 columns]"
      ]
     },
     "execution_count": 50,
     "metadata": {},
     "output_type": "execute_result"
    }
   ],
   "source": []
  },
  {
   "cell_type": "code",
   "execution_count": 51,
   "metadata": {},
   "outputs": [],
   "source": [
    "output = y_test.copy()"
   ]
  },
  {
   "cell_type": "code",
   "execution_count": 52,
   "metadata": {},
   "outputs": [],
   "source": [
    "y_hat =  model.predict(X_test)"
   ]
  },
  {
   "cell_type": "code",
   "execution_count": 53,
   "metadata": {},
   "outputs": [],
   "source": [
    "output['y_hat']  = y_hat \n",
    "output['y_hat_revenue'] = y_hat * output['price']"
   ]
  },
  {
   "cell_type": "code",
   "execution_count": 54,
   "metadata": {},
   "outputs": [
    {
     "data": {
      "text/html": [
       "<div>\n",
       "<style scoped>\n",
       "    .dataframe tbody tr th:only-of-type {\n",
       "        vertical-align: middle;\n",
       "    }\n",
       "\n",
       "    .dataframe tbody tr th {\n",
       "        vertical-align: top;\n",
       "    }\n",
       "\n",
       "    .dataframe thead th {\n",
       "        text-align: right;\n",
       "    }\n",
       "</style>\n",
       "<table border=\"1\" class=\"dataframe\">\n",
       "  <thead>\n",
       "    <tr style=\"text-align: right;\">\n",
       "      <th></th>\n",
       "      <th>revenue</th>\n",
       "      <th>price</th>\n",
       "      <th>quantity_sold</th>\n",
       "      <th>naive</th>\n",
       "      <th>y_hat</th>\n",
       "      <th>y_hat_revenue</th>\n",
       "    </tr>\n",
       "  </thead>\n",
       "  <tbody>\n",
       "    <tr>\n",
       "      <td>280</td>\n",
       "      <td>74.75</td>\n",
       "      <td>2.99</td>\n",
       "      <td>25.0</td>\n",
       "      <td>28.272111</td>\n",
       "      <td>0.500000</td>\n",
       "      <td>1.495000</td>\n",
       "    </tr>\n",
       "    <tr>\n",
       "      <td>21</td>\n",
       "      <td>0.00</td>\n",
       "      <td>1.99</td>\n",
       "      <td>0.0</td>\n",
       "      <td>8.863025</td>\n",
       "      <td>0.866667</td>\n",
       "      <td>1.724667</td>\n",
       "    </tr>\n",
       "    <tr>\n",
       "      <td>0</td>\n",
       "      <td>19.90</td>\n",
       "      <td>1.99</td>\n",
       "      <td>10.0</td>\n",
       "      <td>10.061798</td>\n",
       "      <td>1.200000</td>\n",
       "      <td>2.388000</td>\n",
       "    </tr>\n",
       "    <tr>\n",
       "      <td>206</td>\n",
       "      <td>0.00</td>\n",
       "      <td>2.99</td>\n",
       "      <td>0.0</td>\n",
       "      <td>28.272111</td>\n",
       "      <td>0.916667</td>\n",
       "      <td>2.740833</td>\n",
       "    </tr>\n",
       "    <tr>\n",
       "      <td>414</td>\n",
       "      <td>0.00</td>\n",
       "      <td>1.99</td>\n",
       "      <td>0.0</td>\n",
       "      <td>8.863025</td>\n",
       "      <td>4.965238</td>\n",
       "      <td>9.880824</td>\n",
       "    </tr>\n",
       "  </tbody>\n",
       "</table>\n",
       "</div>"
      ],
      "text/plain": [
       "     revenue  price  quantity_sold      naive     y_hat  y_hat_revenue\n",
       "280    74.75   2.99           25.0  28.272111  0.500000       1.495000\n",
       "21      0.00   1.99            0.0   8.863025  0.866667       1.724667\n",
       "0      19.90   1.99           10.0  10.061798  1.200000       2.388000\n",
       "206     0.00   2.99            0.0  28.272111  0.916667       2.740833\n",
       "414     0.00   1.99            0.0   8.863025  4.965238       9.880824"
      ]
     },
     "execution_count": 54,
     "metadata": {},
     "output_type": "execute_result"
    }
   ],
   "source": [
    "output.head()"
   ]
  },
  {
   "cell_type": "code",
   "execution_count": 55,
   "metadata": {},
   "outputs": [
    {
     "data": {
      "text/plain": [
       "Text(0, 0.5, 'Predicted')"
      ]
     },
     "execution_count": 55,
     "metadata": {},
     "output_type": "execute_result"
    },
    {
     "data": {
      "image/png": "[encoded data removed]",
      "text/plain": [
       "<Figure size 432x288 with 1 Axes>"
      ]
     },
     "metadata": {
      "needs_background": "light"
     },
     "output_type": "display_data"
    }
   ],
   "source": [
    "gt_x = np.arange(output['revenue'].max())\n",
    "gt_y = np.arange(output['revenue'].max())\n",
    "\n",
    "\n",
    "plt.scatter(output['revenue'], output[\"y_hat_revenue\"])\n",
    "plt.plot(gt_x, gt_y, '--', c='red')\n",
    "plt.xlabel(\"True\")\n",
    "plt.ylabel(\"Predicted\")"
   ]
  },
  {
   "cell_type": "code",
   "execution_count": 56,
   "metadata": {},
   "outputs": [],
   "source": [
    "def get_mse(y_true, y_hat):\n",
    "    res = y_true - y_hat\n",
    "    return np.mean(np.power(res, 2))\n",
    "\n",
    "def get_mape(y_true, y_hat):\n",
    "    res = y_true - y_hat\n",
    "    rel_res = res / y_true\n",
    "    return np.mean(np.abs(rel_res))\n",
    "\n",
    "def get_mae(y_true, y_hat):\n",
    "    res = y_true - y_hat\n",
    "    return np.mean(np.abs(res))"
   ]
  },
  {
   "cell_type": "markdown",
   "metadata": {},
   "source": [
    "#### Model predictions"
   ]
  },
  {
   "cell_type": "code",
   "execution_count": 57,
   "metadata": {},
   "outputs": [
    {
     "data": {
      "text/plain": [
       "774.9776006368879"
      ]
     },
     "execution_count": 57,
     "metadata": {},
     "output_type": "execute_result"
    }
   ],
   "source": [
    "get_mse(output[\"revenue\"].values, output[\"y_hat_revenue\"].values)"
   ]
  },
  {
   "cell_type": "code",
   "execution_count": 58,
   "metadata": {},
   "outputs": [
    {
     "data": {
      "text/plain": [
       "16.97677103625541"
      ]
     },
     "execution_count": 58,
     "metadata": {},
     "output_type": "execute_result"
    }
   ],
   "source": [
    "get_mae(output[\"revenue\"].values, output[\"y_hat_revenue\"].values)"
   ]
  },
  {
   "cell_type": "code",
   "execution_count": 59,
   "metadata": {},
   "outputs": [
    {
     "data": {
      "text/plain": [
       "-0.7596875629825832"
      ]
     },
     "execution_count": 59,
     "metadata": {},
     "output_type": "execute_result"
    }
   ],
   "source": [
    "r2_score(output[\"revenue\"].values, output[\"y_hat_revenue\"].values)"
   ]
  },
  {
   "cell_type": "markdown",
   "metadata": {},
   "source": [
    "#### Naive Baseline"
   ]
  },
  {
   "cell_type": "code",
   "execution_count": 60,
   "metadata": {},
   "outputs": [
    {
     "data": {
      "text/plain": [
       "322.7765809032477"
      ]
     },
     "execution_count": 60,
     "metadata": {},
     "output_type": "execute_result"
    }
   ],
   "source": [
    "get_mse(output[\"revenue\"].values, output[\"naive\"].values)"
   ]
  },
  {
   "cell_type": "code",
   "execution_count": 61,
   "metadata": {},
   "outputs": [
    {
     "data": {
      "text/plain": [
       "11.761323639416874"
      ]
     },
     "execution_count": 61,
     "metadata": {},
     "output_type": "execute_result"
    }
   ],
   "source": [
    "get_mae(output[\"revenue\"].values, output[\"naive\"].values)"
   ]
  },
  {
   "cell_type": "code",
   "execution_count": 62,
   "metadata": {},
   "outputs": [
    {
     "data": {
      "text/plain": [
       "0.26709373977943707"
      ]
     },
     "execution_count": 62,
     "metadata": {},
     "output_type": "execute_result"
    }
   ],
   "source": [
    "r2_score(output[\"revenue\"].values, output[\"naive\"].values)"
   ]
  },
  {
   "cell_type": "code",
   "execution_count": 43,
   "metadata": {},
   "outputs": [
    {
     "data": {
      "text/plain": [
       "{'price': 1.6362364034187156,\n",
       " 'day_of_week': 0.11745296516025595,\n",
       " 'num_slots': 0.27098470045689593,\n",
       " 'product_one_hot_Monster_16oz_can': 2.192033921474894,\n",
       " 'product_one_hot_coca_cola_20oz_bottle': 0.062074575991023034,\n",
       " 'product_one_hot_diet_coke_20oz_bottle': -1.6371316857467366,\n",
       " 'product_one_hot_dr_pepper_20oz_bottle': 0.5557975180561784,\n",
       " 'product_one_hot_sprite_20oz_bottle': -1.172774329775358}"
      ]
     },
     "execution_count": 43,
     "metadata": {},
     "output_type": "execute_result"
    }
   ],
   "source": [
    "dict(zip(list(X_train.columns), model.coef_))"
   ]
  },
  {
   "cell_type": "code",
   "execution_count": null,
   "metadata": {},
   "outputs": [],
   "source": []
  }
 ],
 "metadata": {
  "kernelspec": {
   "display_name": "Python 3",
   "language": "python",
   "name": "python3"
  },
  "language_info": {
   "codemirror_mode": {
    "name": "ipython",
    "version": 3
   },
   "file_extension": ".py",
   "mimetype": "text/x-python",
   "name": "python",
   "nbconvert_exporter": "python",
   "pygments_lexer": "ipython3",
   "version": "3.7.4"
  }
 },
 "nbformat": 4,
 "nbformat_minor": 2
}
